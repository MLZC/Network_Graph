{
 "cells": [
  {
   "cell_type": "code",
   "execution_count": 1,
   "id": "thermal-motor",
   "metadata": {},
   "outputs": [],
   "source": [
    "from drawGraph import networker\n",
    "import numpy as np\n",
    "import networkx as nx"
   ]
  },
  {
   "cell_type": "code",
   "execution_count": 2,
   "id": "identical-keyboard",
   "metadata": {},
   "outputs": [],
   "source": [
    "data_path = './selected_edges.csv'\n",
    "def edges2Nodes(networker):\n",
    "    nodes = []\n",
    "    [nodes.extend(i) for i in networker.edges]\n",
    "    nodes = set(nodes)\n",
    "    networker.nodes = nodes\n",
    "    \n",
    "\n",
    "def getAllPath(netwoker, minimalExample=1):\n",
    "\n",
    "    nodes = list(netwoker.graph.nodes)\n",
    "    print(\"The number of nodes is:\",len(nodes))\n",
    "    num = 0\n",
    "    nodePathNumDic = {}\n",
    "    for source in nodes:\n",
    "        num+=1\n",
    "        if minimalExample:\n",
    "            if num>2:\n",
    "                print(\"The total number that we have handled is:\",num-1)\n",
    "                break\n",
    "        for target in nodes:\n",
    "            for path in sorted(nx.all_simple_edge_paths(netwoker.graph,source,target)):\n",
    "                if len(path) in nodePathNumDic:\n",
    "                    nodePathNumDic[len(path)]=nodePathNumDic[len(path)]+1\n",
    "                else:\n",
    "                    nodePathNumDic[len(path)]=1\n",
    "    return nodePathNumDic"
   ]
  },
  {
   "cell_type": "code",
   "execution_count": 3,
   "id": "still-oakland",
   "metadata": {},
   "outputs": [],
   "source": [
    "networkHandler = networker(data_path)\n",
    "networkHandler.data_loader()\n",
    "networkHandler.build_graph()\n",
    "edges2Nodes(networkHandler)\n",
    "nx.write_adjlist(networkHandler.graph,'./adjlist.txt')"
   ]
  },
  {
   "cell_type": "code",
   "execution_count": 4,
   "id": "color-anniversary",
   "metadata": {},
   "outputs": [
    {
     "name": "stdout",
     "output_type": "stream",
     "text": [
      "The number of nodes is: 49\n",
      "The total number that we have handled is: 2\n",
      "CPU times: user 3.18 s, sys: 0 ns, total: 3.18 s\n",
      "Wall time: 3.18 s\n"
     ]
    }
   ],
   "source": [
    "%%time\n",
    "pathDict = getAllPath(networkHandler,1)"
   ]
  },
  {
   "cell_type": "code",
   "execution_count": 5,
   "id": "described-balloon",
   "metadata": {},
   "outputs": [
    {
     "data": {
      "text/plain": [
       "0"
      ]
     },
     "execution_count": 5,
     "metadata": {},
     "output_type": "execute_result"
    }
   ],
   "source": [
    "pathDict.get(22,0)"
   ]
  }
 ],
 "metadata": {
  "kernelspec": {
   "display_name": "Python [conda env:.conda-tf24]",
   "language": "python",
   "name": "conda-env-.conda-tf24-py"
  },
  "language_info": {
   "codemirror_mode": {
    "name": "ipython",
    "version": 3
   },
   "file_extension": ".py",
   "mimetype": "text/x-python",
   "name": "python",
   "nbconvert_exporter": "python",
   "pygments_lexer": "ipython3",
   "version": "3.8.8"
  }
 },
 "nbformat": 4,
 "nbformat_minor": 5
}
