{
 "cells": [
  {
   "cell_type": "code",
   "execution_count": 1,
   "id": "cellular-sheriff",
   "metadata": {},
   "outputs": [],
   "source": [
    "import numpy as np\n",
    "import pandas as pd"
   ]
  },
  {
   "cell_type": "code",
   "execution_count": 2,
   "id": "naked-crown",
   "metadata": {},
   "outputs": [],
   "source": [
    "SEED = 2333\n",
    "np.random.seed(SEED)\n",
    "edges = np.random.randint(0,10,size=(4000,2))"
   ]
  },
  {
   "cell_type": "code",
   "execution_count": 3,
   "id": "heard-prompt",
   "metadata": {},
   "outputs": [],
   "source": [
    "edgesDF = pd.DataFrame(edges)"
   ]
  },
  {
   "cell_type": "code",
   "execution_count": 4,
   "id": "supreme-binary",
   "metadata": {},
   "outputs": [],
   "source": [
    "edgesDF.columns = [\"Source\",\"Target\"]"
   ]
  },
  {
   "cell_type": "code",
   "execution_count": 5,
   "id": "distinguished-stockholm",
   "metadata": {},
   "outputs": [],
   "source": [
    "edgesDF.to_csv('./edges/edgesAll.csv',  index=None)"
   ]
  },
  {
   "cell_type": "code",
   "execution_count": 7,
   "id": "international-romance",
   "metadata": {},
   "outputs": [
    {
     "name": "stdout",
     "output_type": "stream",
     "text": [
      "edges can not generate a network with 10 nodes, ignore the 2-th group edges\n",
      "edges can not generate a network with 10 nodes, ignore the 3-th group edges\n",
      "edges can not generate a network with 10 nodes, ignore the 11-th group edges\n",
      "edges can not generate a network with 10 nodes, ignore the 35-th group edges\n",
      "edges can not generate a network with 10 nodes, ignore the 37-th group edges\n",
      "edges can not generate a network with 10 nodes, ignore the 47-th group edges\n",
      "edges can not generate a network with 10 nodes, ignore the 52-th group edges\n",
      "edges can not generate a network with 10 nodes, ignore the 60-th group edges\n",
      "edges can not generate a network with 10 nodes, ignore the 69-th group edges\n",
      "edges can not generate a network with 10 nodes, ignore the 70-th group edges\n",
      "edges can not generate a network with 10 nodes, ignore the 73-th group edges\n",
      "edges can not generate a network with 10 nodes, ignore the 85-th group edges\n",
      "edges can not generate a network with 10 nodes, ignore the 93-th group edges\n",
      "edges can not generate a network with 10 nodes, ignore the 96-th group edges\n",
      "edges can not generate a network with 10 nodes, ignore the 100-th group edges\n",
      "edges can not generate a network with 10 nodes, ignore the 102-th group edges\n",
      "edges can not generate a network with 10 nodes, ignore the 105-th group edges\n",
      "edges can not generate a network with 10 nodes, ignore the 108-th group edges\n",
      "edges can not generate a network with 10 nodes, ignore the 115-th group edges\n",
      "break the loop at i= 118\n"
     ]
    }
   ],
   "source": [
    "num = 0\n",
    "for i in range(200):\n",
    "    start = i*20\n",
    "    end = start + 20\n",
    "    edges_20 = edgesDF.iloc[start:end]\n",
    "    if set(edges_20['Source']).union(edges_20['Target']) !={0,1,2,3,4,5,6,7,8,9}:\n",
    "        print(\"edges can not generate a network with 10 nodes, \\\n",
    "ignore the {}-th group edges\".format(i))\n",
    "        continue\n",
    "    else:\n",
    "        edges_20.to_csv('./edges/edges_' + str(num) + '.csv',  index=None)\n",
    "        num+=1\n",
    "        if num>=100:\n",
    "            print(\"break the loop at i=\",i)\n",
    "            break"
   ]
  }
 ],
 "metadata": {
  "kernelspec": {
   "display_name": "Python [conda env:.conda-tf24]",
   "language": "python",
   "name": "conda-env-.conda-tf24-py"
  },
  "language_info": {
   "codemirror_mode": {
    "name": "ipython",
    "version": 3
   },
   "file_extension": ".py",
   "mimetype": "text/x-python",
   "name": "python",
   "nbconvert_exporter": "python",
   "pygments_lexer": "ipython3",
   "version": "3.8.8"
  }
 },
 "nbformat": 4,
 "nbformat_minor": 5
}
