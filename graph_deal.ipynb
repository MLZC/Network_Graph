{
 "cells": [
  {
   "cell_type": "code",
   "execution_count": null,
   "metadata": {},
   "outputs": [],
   "source": [
    "import pandas as pd\n",
    "import networkx as nx\n",
    "import numpy as np\n",
    "import matplotlib.pyplot as plt"
   ]
  },
  {
   "cell_type": "code",
   "execution_count": null,
   "metadata": {},
   "outputs": [],
   "source": [
    "csv_data=pd.read_csv(\"./Edges_separate.csv\")"
   ]
  },
  {
   "cell_type": "code",
   "execution_count": null,
   "metadata": {},
   "outputs": [],
   "source": [
    "source=np.array(csv_data['Source']).reshape(-1,1)\n",
    "target=np.array(csv_data['Target']).reshape(-1,1)"
   ]
  },
  {
   "cell_type": "code",
   "execution_count": null,
   "metadata": {},
   "outputs": [],
   "source": [
    "edges=np.concatenate((source,target),axis=1)"
   ]
  },
  {
   "cell_type": "code",
   "execution_count": null,
   "metadata": {},
   "outputs": [],
   "source": [
    "G=nx.Graph()"
   ]
  },
  {
   "cell_type": "code",
   "execution_count": null,
   "metadata": {},
   "outputs": [],
   "source": [
    "G.add_edges_from(edges)"
   ]
  },
  {
   "cell_type": "code",
   "execution_count": null,
   "metadata": {},
   "outputs": [],
   "source": [
    "print(\"The Graph has %d number of nodes!\" % G.number_of_nodes())\n",
    "print(\"The Graph has %d number of edges!\" % G.number_of_edges())\n",
    "print(\"The Graph has %d number of selfloops!\" % G.number_of_selfloops())"
   ]
  },
  {
   "cell_type": "code",
   "execution_count": null,
   "metadata": {},
   "outputs": [],
   "source": [
    "# nx.draw(G, with_labels=True)\n",
    "# plt.savefig(\"Graph.png\")\n",
    "# plt.show()"
   ]
  },
  {
   "cell_type": "code",
   "execution_count": null,
   "metadata": {},
   "outputs": [],
   "source": [
    "# get the adjacency matrix of Graph G\n",
    "ad_matrix = np.array(nx.adjacency_matrix(G).todense())\n",
    "ad_matrix.shape"
   ]
  },
  {
   "cell_type": "code",
   "execution_count": null,
   "metadata": {},
   "outputs": [],
   "source": [
    "G_nodes = list(G.nodes)"
   ]
  },
  {
   "cell_type": "code",
   "execution_count": null,
   "metadata": {},
   "outputs": [],
   "source": [
    "new_edges = []"
   ]
  },
  {
   "cell_type": "code",
   "execution_count": null,
   "metadata": {},
   "outputs": [],
   "source": [
    "# traversing all edges, run this cell not the cell below\n",
    "for i in range(G.number_of_nodes()):\n",
    "    for j in range(i+1):\n",
    "        if ad_matrix[i][j]==1 and ad_matrix[j][i]==1:\n",
    "            if [G_nodes[i],G_nodes[j]] not in new_edges and [G_nodes[j],G_nodes[i]] not in new_edges:\n",
    "                new_edges.append([G_nodes[i],G_nodes[j]])\n",
    "        j=j+1\n",
    "    i=i+1"
   ]
  },
  {
   "cell_type": "code",
   "execution_count": null,
   "metadata": {},
   "outputs": [],
   "source": [
    "# test \n",
    "for i in range(1000):\n",
    "    for j in range(i+1):\n",
    "        if ad_matrix[i][j]==1 and ad_matrix[j][i]==1:\n",
    "            if [G_nodes[i],G_nodes[j]] not in new_edges and [G_nodes[j],G_nodes[i]] not in new_edges:\n",
    "                new_edges.append([G_nodes[i],G_nodes[j]])\n",
    "        j=j+1\n",
    "    i=i+1"
   ]
  },
  {
   "cell_type": "code",
   "execution_count": null,
   "metadata": {},
   "outputs": [],
   "source": [
    "undirected_G_edges=np.array(new_edges)\n",
    "# undirected_G_edges.shape"
   ]
  },
  {
   "cell_type": "code",
   "execution_count": null,
   "metadata": {},
   "outputs": [],
   "source": [
    "np.savetxt(\"edges_undirected.csv\",undirected_G_edges,delimiter=\",\")"
   ]
  }
 ],
 "metadata": {
  "kernelspec": {
   "display_name": "Python 3",
   "language": "python",
   "name": "python3"
  },
  "language_info": {
   "codemirror_mode": {
    "name": "ipython",
    "version": 3
   },
   "file_extension": ".py",
   "mimetype": "text/x-python",
   "name": "python",
   "nbconvert_exporter": "python",
   "pygments_lexer": "ipython3",
   "version": "3.7.4"
  }
 },
 "nbformat": 4,
 "nbformat_minor": 2
}
